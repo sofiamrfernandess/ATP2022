{
 "cells": [
  {
   "cell_type": "markdown",
   "metadata": {},
   "source": [
    "# Aula Prática 3 (guião)\n",
    "### Semana de 3 a 7 de Outubro de 2022\n",
    "### José Carlos Ramalho e Luís Cunha\n",
    "### Sinopsis:\n",
    "Algoritmos sobre listas."
   ]
  },
  {
   "cell_type": "markdown",
   "metadata": {},
   "source": [
    "### Exercício 1: Criar uma lista \n",
    "- Defina uma função que recebe um argumento **N** e devolve uma  lista com os números pares até **N**;\n",
    "- Crie um programa que chama a função e imprime a lista resultante."
   ]
  },
  {
   "cell_type": "code",
   "execution_count": 3,
   "metadata": {},
   "outputs": [
    {
     "data": {
      "text/plain": [
       "[0, 2, 4, 6, 8, 10]"
      ]
     },
     "execution_count": 3,
     "metadata": {},
     "output_type": "execute_result"
    }
   ],
   "source": [
    "# Solução do exercício 1\n",
    "def criaLista(N):\n",
    "    lista = []\n",
    "    numPar=0\n",
    "    while numPar <= N:\n",
    "        lista.append(numPar)\n",
    "        numPar=numPar+2\n",
    "    return lista \n",
    "\n",
    "criaLista(10)\n",
    "#todas as funções que envolvam listas têm de ter um ciclo lá dentro "
   ]
  },
  {
   "cell_type": "markdown",
   "metadata": {},
   "source": [
    "### Exercício 2: Ler uma lista de N números\n",
    "- Defina uma função que recebe um argumento **N** e lê **N** números armazenando-os numa lista que é devolvida como resultado;\n",
    "- Crie um programa que chama a função e imprime a lista resultante."
   ]
  },
  {
   "cell_type": "code",
   "execution_count": null,
   "metadata": {},
   "outputs": [],
   "source": [
    "# Solução do exercício 2\n",
    "def leLista(N):\n",
    "    lista=[]\n",
    "    #N=int(input(\"Introduza o número que deseja adicionar à lista\"))\n",
    "    while N>0:\n",
    "        num=int(input(\"Diga que nº deseja adicionar à lista\"))\n",
    "        lista.append(num)\n",
    "        N=N-1\n",
    "    return lista\n",
    "    \n",
    "leLista(4)"
   ]
  },
  {
   "cell_type": "markdown",
   "metadata": {},
   "source": [
    "###### Exercício 3: Somar uma lista de números\n",
    "- Defina uma função que recebe uma lista como argumento e devolve a soma dos números nessa lista."
   ]
  },
  {
   "cell_type": "code",
   "execution_count": 13,
   "metadata": {},
   "outputs": [
    {
     "name": "stdout",
     "output_type": "stream",
     "text": [
      "42\n"
     ]
    }
   ],
   "source": [
    "# Solução do exercício 3\n",
    "def somaLista(lista):\n",
    "    \n",
    "    soma=0\n",
    "    for i in lista:\n",
    "        soma=i+soma\n",
    "        \n",
    "    return soma\n",
    "#somaLista([4,5,6])\n",
    "#----------------------------\n",
    "\n",
    "print(somaLista(criaLista(12)))"
   ]
  },
  {
   "cell_type": "markdown",
   "metadata": {},
   "source": [
    "### Exercício 4: Calcular a média duma lista de números\n",
    "- Defina uma função que recebe uma lista como argumento e devolve a média dos números nessa lista."
   ]
  },
  {
   "cell_type": "code",
   "execution_count": 4,
   "metadata": {},
   "outputs": [
    {
     "data": {
      "text/plain": [
       "2.0"
      ]
     },
     "execution_count": 4,
     "metadata": {},
     "output_type": "execute_result"
    }
   ],
   "source": [
    "# Solução do exercício 4\n",
    "def mediaLista(lista):\n",
    "    soma=0\n",
    "    for i in lista:\n",
    "        soma=i+soma\n",
    "    \n",
    "    return soma/len(lista)\n",
    "mediaLista([2,2,2])"
   ]
  },
  {
   "cell_type": "markdown",
   "metadata": {},
   "source": [
    "### Exercício 5: Maior de uma sequência\n",
    "- Defina uma função que recebe uma lista como argumento e devolve o maior número nessa lista."
   ]
  },
  {
   "cell_type": "code",
   "execution_count": 27,
   "metadata": {},
   "outputs": [
    {
     "data": {
      "text/plain": [
       "4"
      ]
     },
     "execution_count": 27,
     "metadata": {},
     "output_type": "execute_result"
    }
   ],
   "source": [
    "# Solução do exercício 5\n",
    "def maiorLista(lista):\n",
    "    n=0\n",
    "    for i in lista:\n",
    "         if i>n:\n",
    "            n=i\n",
    "           \n",
    "    return n\n",
    "maiorLista([3,2,4])\n",
    "#\\----------------------------\\\n",
    "\n",
    "def maiorLista(lista):\n",
    "    res=lista[0]\n",
    "    for n in lista[1:]:\n",
    "        if n>res:\n",
    "            res=n\n",
    "    return res\n"
   ]
  },
  {
   "cell_type": "markdown",
   "metadata": {},
   "source": [
    "### Exercício 6: Menor de uma sequência\n",
    "- Defina uma função que recebe uma lista como argumento e devolve o menor número nessa lista."
   ]
  },
  {
   "cell_type": "code",
   "execution_count": 33,
   "metadata": {},
   "outputs": [
    {
     "data": {
      "text/plain": [
       "2"
      ]
     },
     "execution_count": 33,
     "metadata": {},
     "output_type": "execute_result"
    }
   ],
   "source": [
    "# Solução do exercício 6\n",
    "def menorLista(lista):\n",
    "    \n",
    "    lista.sort()\n",
    "    \n",
    "    return lista[0]\n",
    "menorLista([8,2,9])"
   ]
  },
  {
   "cell_type": "code",
   "execution_count": 5,
   "metadata": {},
   "outputs": [
    {
     "data": {
      "text/plain": [
       "2"
      ]
     },
     "execution_count": 5,
     "metadata": {},
     "output_type": "execute_result"
    }
   ],
   "source": [
    "def menor(lista):\n",
    "    res=lista[0]\n",
    "    for n in lista[1:]:\n",
    "        if n<res:\n",
    "            res=n\n",
    "    return res\n",
    "menor([8,2,9])"
   ]
  },
  {
   "cell_type": "markdown",
   "metadata": {},
   "source": [
    "### Exercício 7: Contar strings\n",
    "- Defina uma função que recebe uma lista de strings como argumento e devolve número de strings nessa lista que:\n",
    "    1. Têm tamanho maior ou igual a 2;\n",
    "    2. Começam e terminam pelo mesmo caracter.\n",
    "#### Input (exemplo)\n",
    "in: ['abc', 'xyz', 'aba', '1221']\n",
    "#### Output (exemplo)\n",
    "out: 2"
   ]
  },
  {
   "cell_type": "code",
   "execution_count": 24,
   "metadata": {},
   "outputs": [
    {
     "data": {
      "text/plain": [
       "2"
      ]
     },
     "execution_count": 24,
     "metadata": {},
     "output_type": "execute_result"
    }
   ],
   "source": [
    "# Solução do exercício 7\n",
    "def contarStringsLista(lista):\n",
    "    res=0\n",
    "    for s in lista:\n",
    "        if len(s)>=2 and s[0]==s[-1]:\n",
    "            res=res+1\n",
    "    return res\n",
    "contarStringsLista(['abc', 'xyz', 'aba', '1221'])\n"
   ]
  },
  {
   "cell_type": "markdown",
   "metadata": {},
   "source": [
    "### Exercício 8: Remover duplicados\n",
    "- Defina uma função que recebe uma lista como argumento e devolve uma nova lista eliminando elementos repetidos."
   ]
  },
  {
   "cell_type": "code",
   "execution_count": 26,
   "metadata": {},
   "outputs": [
    {
     "data": {
      "text/plain": [
       "[1, 2, 3, 4]"
      ]
     },
     "execution_count": 26,
     "metadata": {},
     "output_type": "execute_result"
    }
   ],
   "source": [
    "# Solução do exercício 8\n",
    "def remDupLista(lista):\n",
    "    listaNova=[]\n",
    "    for i in lista:\n",
    "        if i not in listaNova:\n",
    "            listaNova.append(i)\n",
    "    return listaNova\n",
    "remDupLista([1,2,3,1,4])"
   ]
  },
  {
   "cell_type": "markdown",
   "metadata": {},
   "source": [
    "### Exercício 9: eVazia?\n",
    "- Defina uma função que recebe uma lista como argumento e devolve um resultado booleano verdadeiro se a lista estiver vazia."
   ]
  },
  {
   "cell_type": "code",
   "execution_count": 9,
   "metadata": {},
   "outputs": [
    {
     "data": {
      "text/plain": [
       "True"
      ]
     },
     "execution_count": 9,
     "metadata": {},
     "output_type": "execute_result"
    }
   ],
   "source": [
    "# Solução do exercício 9\n",
    "def eVazia(lista):\n",
    "    res= False\n",
    "    if lista==[]:\n",
    "        res= True\n",
    "    return res\n",
    "eVazia([ ])"
   ]
  },
  {
   "cell_type": "markdown",
   "metadata": {},
   "source": [
    "### Exercício 10: Copiar lista\n",
    "- Defina uma função que recebe uma lista como argumento e devolve uma nova lista correspondente a uma cópia da lista recebida."
   ]
  },
  {
   "cell_type": "code",
   "execution_count": 27,
   "metadata": {},
   "outputs": [
    {
     "data": {
      "text/plain": [
       "[1, 2, 4, 1, 2, 3]"
      ]
     },
     "execution_count": 27,
     "metadata": {},
     "output_type": "execute_result"
    }
   ],
   "source": [
    "# Solução do exercício 10\n",
    "def copiarLista(lista):\n",
    "    listacopia=list(lista)\n",
    "    return listacopia\n",
    "copiarLista([1,2,4,1,2,3])"
   ]
  },
  {
   "cell_type": "markdown",
   "metadata": {},
   "source": [
    "### Exercício 11: Strings maiores que n carateres\n",
    "- Defina uma função que recebe dois argumentos, uma lista de strings e um número inteiro, e que devolve uma nova lista de strings em que estas têm um comprimento igual ou superior ao valor inteiro passado como argumento."
   ]
  },
  {
   "cell_type": "code",
   "execution_count": 38,
   "metadata": {},
   "outputs": [
    {
     "data": {
      "text/plain": [
       "['aved', 'asdd', 'aaa']"
      ]
     },
     "execution_count": 38,
     "metadata": {},
     "output_type": "execute_result"
    }
   ],
   "source": [
    "# Solução do exercício 11\n",
    "def stringsMaioresLista(lista, n):\n",
    "    listaNova=[]\n",
    "    \n",
    "    for s in lista:\n",
    "        if len(s)>=3:\n",
    "            listaNova.append(s)\n",
    "    \n",
    "    return listaNova\n",
    "stringsMaioresLista(['aved','asdd','aaa','as','a'], 3)\n",
    "\n",
    "\n",
    "#Será que era isto que ele queria ou queria que eu um tamanho de 3 caracteres????"
   ]
  },
  {
   "cell_type": "markdown",
   "metadata": {},
   "source": [
    "### Exercício 12: Comum?\n",
    "- Defina uma função que recebe duas listas como argumento, e que devolve o valor booleano verdadeiro se as listas tiverem pelo menos um elemento comum."
   ]
  },
  {
   "cell_type": "code",
   "execution_count": 37,
   "metadata": {},
   "outputs": [
    {
     "data": {
      "text/plain": [
       "True"
      ]
     },
     "execution_count": 37,
     "metadata": {},
     "output_type": "execute_result"
    }
   ],
   "source": [
    "# Solução do exercício 12\n",
    "def haComuns(listaA, listaB):\n",
    "    res=False\n",
    "    for i in listaA: \n",
    "        if i in listaB:\n",
    "            res= True\n",
    "    return res\n",
    "haComuns([1,2,3,4], [1,5,6,7])\n",
    "\n",
    "#arranjar forma de a primeira vez que ela encontra um igual parar utilizando o ciclo while"
   ]
  },
  {
   "cell_type": "markdown",
   "metadata": {},
   "source": [
    "### Exercício 13: Comuns\n",
    "- Defina uma função que recebe duas listas como argumento, e que devolve uma nova lista com os valores comuns às duas listas."
   ]
  },
  {
   "cell_type": "code",
   "execution_count": 46,
   "metadata": {},
   "outputs": [
    {
     "data": {
      "text/plain": [
       "[3, 4]"
      ]
     },
     "execution_count": 46,
     "metadata": {},
     "output_type": "execute_result"
    }
   ],
   "source": [
    "# Solução do exercício 13\n",
    "def comuns(listaA, listaB):\n",
    "    listaNova=[]\n",
    "    \n",
    "    for i in listaA:\n",
    "        if i in listaB:\n",
    "            listaNova.append(i)\n",
    "          \n",
    "    return listaNova\n",
    "comuns([1,2,3,4], [3,4,5])"
   ]
  },
  {
   "cell_type": "markdown",
   "metadata": {},
   "source": [
    "### Exercício 14: Únicos\n",
    "- Defina uma função que recebe duas listas como argumento, e que devolve uma nova lista com os valores que apenas existem numa delas."
   ]
  },
  {
   "cell_type": "code",
   "execution_count": 48,
   "metadata": {},
   "outputs": [
    {
     "data": {
      "text/plain": [
       "[1, 2, 5]"
      ]
     },
     "execution_count": 48,
     "metadata": {},
     "output_type": "execute_result"
    }
   ],
   "source": [
    "# Solução do exercício 14\n",
    "def unicos(listaA, listaB):\n",
    "    listaNova=[]\n",
    "    \n",
    "    for i in listaA:\n",
    "        if i not in listaB:\n",
    "            listaNova.append(i)\n",
    "    for i in listaB:\n",
    "        if i not in listaA:\n",
    "            listaNova.append(i)\n",
    "            \n",
    "    return listaNova\n",
    "unicos([1,2,3,4], [3,4,5])"
   ]
  },
  {
   "cell_type": "markdown",
   "metadata": {},
   "source": [
    "### Exercício 15: indiceDe\n",
    "- Defina uma função que recebe uma lista e um elemento como argumento, e que devolve o índice desse elemento na lista. No caso do elemento não existir na lista deverá devolver o valor -1."
   ]
  },
  {
   "cell_type": "code",
   "execution_count": 14,
   "id": "de662cec",
   "metadata": {},
   "outputs": [
    {
     "data": {
      "text/plain": [
       "-1"
      ]
     },
     "execution_count": 14,
     "metadata": {},
     "output_type": "execute_result"
    }
   ],
   "source": [
    "def f(a,b):\n",
    "    i=0\n",
    "    res=-1\n",
    "    for i in range (len(a)):\n",
    "        if b==a[i]:\n",
    "            res=i                 \n",
    "    return res\n",
    "f([1,2,3,22,34],29)"
   ]
  },
  {
   "cell_type": "markdown",
   "metadata": {},
   "source": [
    "### Exercício 16: estaOrdenada\n",
    "- Defina uma função que recebe uma lista de números e verifica se a mesma está ordenada por ordem crescente."
   ]
  },
  {
   "cell_type": "code",
   "execution_count": 10,
   "id": "dcef2745",
   "metadata": {},
   "outputs": [
    {
     "data": {
      "text/plain": [
       "False"
      ]
     },
     "execution_count": 10,
     "metadata": {},
     "output_type": "execute_result"
    }
   ],
   "source": [
    "def crescenteLista(lista):\n",
    "    valor=True\n",
    "    i=0\n",
    "    while i+1<len(lista):\n",
    "        if lista[i]>lista[i+1]:\n",
    "            valor=False\n",
    "        i=i+1\n",
    "    return valor\n",
    "crescenteLista([1,2,8,4])"
   ]
  },
  {
   "cell_type": "markdown",
   "metadata": {},
   "source": [
    "### Exercício 17: estaOrdenadaCD\n",
    "- Modifique a função do exercício anterior para receber um parâmetro extra, **ordem**, que poderá ter valores \"C\" ou \"D\" e que vai verificar se a lista está ordenada por ordem crescente se **ordem=\"C\"** ou se está ordenada por ordem decrescente se **ordem=\"D\"**."
   ]
  },
  {
   "cell_type": "code",
   "execution_count": 23,
   "id": "6b5c4230",
   "metadata": {},
   "outputs": [
    {
     "data": {
      "text/plain": [
       "True"
      ]
     },
     "execution_count": 23,
     "metadata": {},
     "output_type": "execute_result"
    }
   ],
   "source": [
    "def ordemCD(lista, ordem):\n",
    "    valor=True\n",
    "    i=0\n",
    "    if ordem == \"C\":\n",
    "        while i+1<len(lista):\n",
    "            if lista[i]>lista[i+1]:\n",
    "                valor=False\n",
    "            i=i+1\n",
    "    elif ordem == \"D\":\n",
    "       while i+1<len(lista):\n",
    "            if lista[i]<lista[i+1]:\n",
    "                valor=False\n",
    "            i=i+1\n",
    "    return valor\n",
    "\n",
    "ordemCD([6,5,4,3],\"D\")"
   ]
  },
  {
   "cell_type": "markdown",
   "metadata": {},
   "source": [
    "### TPC3: Aplicação para manipulação de listas de inteiros\n",
    "- Crie uma aplicação em Python que coloca no monitor o seguinte menu:\n",
    "    * (1) Criar Lista \n",
    "    * (2) Ler Lista\n",
    "    * (3) Soma\n",
    "    * (4) Média\n",
    "    * (5) Maior\n",
    "    * (6) Menor\n",
    "    * (7) estaOrdenada por ordem crescente\n",
    "    * (8) estaOrdenada por ordem decrescente\n",
    "    * (9) Procura um elemento\n",
    "    * (0) Sair\n",
    "- O utilizador irá escolher uma das opções introduzindo o número correspondente;\n",
    "- Se a opção não for sair, a aplicação executa a operação pretendida, apresenta o resultado e a seguir apresenta de novo o menu;\n",
    "- Se a opção for sair, a aplicação termina colocando uma mensagem no monitor.\n",
    "\n",
    "* No desenvolvimento da aplicação deverá ter em atenção o seguinte:\n",
    "    - A aplicação terá uma variável interna para guardar uma lista de números;\n",
    "    - Na opção 1, deverá ser criada uma lista de números aleatórios entre 1 e 100 que será guardada na variável interna;\n",
    "    - Na opção 2, deverá ser criada uma lista com números introduzidos pelo utilizador, que será guardada na variável interna;\n",
    "    - Nestas primeiras opções, se a variável interna já tiver uma lista, esta será sobreposta/apagada pela nova lista;\n",
    "    - Na opção 3, será calculada a soma dos elementos na lista no momento;\n",
    "    - Na opção 4, será calculada a média dos elementos na lista no momento;\n",
    "    - Na opção 5, será calculado o maior elemento da lista no momento;\n",
    "    - Na opção 6, será calculado o menor elemento da lista no momento;\n",
    "    - Na opção 7, a aplicação deverá indicar (Sim/Não) se a lista está ordenada por ordem crescente;\n",
    "    - Na opção 8, a aplicação deverá indicar (Sim/Não) se a lista está ordenada por ordem decrescente;\n",
    "    - Na opção 9, a aplicação irá procurar um ellmento na lista, se o encontrar deverá devolver a sua posição;\n",
    "    - Se o utilizador selecionar a opção 0, a aplicação deverá terminar mostrando a lista que está nesse momento guardada."
   ]
  },
  {
   "cell_type": "code",
   "execution_count": 18,
   "id": "7b3f4653",
   "metadata": {},
   "outputs": [
    {
     "name": "stdout",
     "output_type": "stream",
     "text": [
      "2\n"
     ]
    }
   ],
   "source": [
    "#import os\n",
    "import random\n",
    "\n",
    "def criarLista():\n",
    "    lista = []\n",
    "    elem = int(input(\"Quantos números deseja que a lista tenha? \"))\n",
    "    while elem > 0:\n",
    "        num = random.randrange(1,101)\n",
    "        lista.append(num)\n",
    "        elem = elem - 1\n",
    "    return lista\n",
    "\n",
    "def lerLista():\n",
    "    lista = []\n",
    "    N = int(input(\"Quantos números deseja que a lista tenha? \"))\n",
    "    while N > 0:\n",
    "        num = int(input(\"Que número deseja adicionar à lista? \"))\n",
    "        lista.append(num)\n",
    "        N = N - 1\n",
    "    return lista\n",
    "\n",
    "def somaLista(lista):\n",
    "    soma = 0\n",
    "    for i in lista:\n",
    "        soma = soma + i\n",
    "    return soma\n",
    "\n",
    "def mediaLista(lista):\n",
    "    return (somaLista(lista)/len(lista))\n",
    "\n",
    "def maiorLista(lista):\n",
    "    maior = lista[0]\n",
    "    for n in lista:\n",
    "        if n >= maior:\n",
    "            maior = n\n",
    "    return maior\n",
    "\n",
    "def menorLista(lista):\n",
    "    menor = lista[0]\n",
    "    for n in lista:\n",
    "        if n <= menor:\n",
    "            menor = n\n",
    "    return menor\n",
    "\n",
    "def crescente(lista):\n",
    "    res = True\n",
    "    prim = lista[0]\n",
    "    for n in lista:\n",
    "        if prim <= n:\n",
    "            prim = n\n",
    "        else:\n",
    "            res = False\n",
    "    return res\n",
    "\n",
    "def decrescente(lista):\n",
    "    res = True\n",
    "    prim = lista[0]\n",
    "    for n in lista:\n",
    "        if prim >= n:\n",
    "            prim = n\n",
    "        else:\n",
    "            res = False\n",
    "    return res\n",
    "\n",
    "def procura(lista):  # não consigo fazer este\n",
    "    elem = int(input(\"Que elemento deseja procura? \"))\n",
    "    res = 0\n",
    "    for i in range(len(lista)):\n",
    "        if elem in lista:\n",
    "            res = lista[i]\n",
    "            res = res-1\n",
    "    return res\n",
    "print(procura([1,2,3]))\n"
   ]
  },
  {
   "cell_type": "code",
   "execution_count": 19,
   "id": "328e031e",
   "metadata": {},
   "outputs": [
    {
     "name": "stdout",
     "output_type": "stream",
     "text": [
      "(1) Criar Lista \n",
      "     (2) Ler Lista\n",
      "     (3) Soma\n",
      "     (4) Média\n",
      "     (5) Maior\n",
      "     (6) Menor\n",
      "     (7) estaOrdenada por ordem crescente\n",
      "     (8) estaOrdenada por ordem decrescente\n",
      "     (9) Procura um elemento\n",
      "     (0) Sair\n",
      "A lista gerada foi:  [39, 56]\n",
      "(1) Criar Lista \n",
      "     (2) Ler Lista\n",
      "     (3) Soma\n",
      "     (4) Média\n",
      "     (5) Maior\n",
      "     (6) Menor\n",
      "     (7) estaOrdenada por ordem crescente\n",
      "     (8) estaOrdenada por ordem decrescente\n",
      "     (9) Procura um elemento\n",
      "     (0) Sair\n",
      "Até à próxima!\n"
     ]
    }
   ],
   "source": [
    "opcao = 1\n",
    "while opcao != 0:\n",
    "     print(\"\"\"(1) Criar Lista \n",
    "     (2) Ler Lista\n",
    "     (3) Soma\n",
    "     (4) Média\n",
    "     (5) Maior\n",
    "     (6) Menor\n",
    "     (7) estaOrdenada por ordem crescente\n",
    "     (8) estaOrdenada por ordem decrescente\n",
    "     (9) Procura um elemento\n",
    "     (0) Sair\"\"\")\n",
    "\n",
    "     opcao = int(input(\"Qual opção pretende escolher? \"))\n",
    "     #os.system('cls')\n",
    "\n",
    "     if opcao == 1:\n",
    "          print(\"A lista gerada foi: \", criarLista())\n",
    "     elif opcao == 2:\n",
    "          print(\"A lista criada foi: \", lerLista()) \n",
    "     elif opcao == 3:\n",
    "          soma = somaLista(lerLista())\n",
    "          print(\"O resultado é: \", soma)\n",
    "     elif opcao == 4:\n",
    "          media = mediaLista(lerLista())\n",
    "          print(\"O resultado é: \", media)\n",
    "     elif opcao == 5:\n",
    "          maior = maiorLista(lerLista())\n",
    "          print(\"O resultado é: \", maior)\n",
    "     elif opcao == 6:\n",
    "          menor = menorLista(lerLista())\n",
    "          print(\"O resultado é: \", menor)\n",
    "     elif opcao == 7:\n",
    "          cresce = crescente(lerLista())\n",
    "          print(\"O resultado é: \", cresce)\n",
    "     elif opcao == 8:\n",
    "          ncresce = decrescente(lerLista())\n",
    "          print(\"O resultado é: \", ncresce)\n",
    "     elif opcao == 9:\n",
    "          proc = procura(lerLista())\n",
    "          print(\"O resultado é: \", proc)\n",
    "     else:\n",
    "          print(\"Até à próxima!\")\n",
    "\n",
    "\n",
    "\n"
   ]
  }
 ],
 "metadata": {
  "kernelspec": {
   "display_name": "Python 3",
   "language": "python",
   "name": "python3"
  },
  "language_info": {
   "codemirror_mode": {
    "name": "ipython",
    "version": 3
   },
   "file_extension": ".py",
   "mimetype": "text/x-python",
   "name": "python",
   "nbconvert_exporter": "python",
   "pygments_lexer": "ipython3",
   "version": "3.9.0"
  },
  "vscode": {
   "interpreter": {
    "hash": "aee8b7b246df8f9039afb4144a1f6fd8d2ca17a180786b69acc140d282b71a49"
   }
  }
 },
 "nbformat": 4,
 "nbformat_minor": 5
}
