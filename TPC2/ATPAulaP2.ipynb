{
 "cells": [
  {
   "cell_type": "markdown",
   "metadata": {},
   "source": [
    "# Aula Prática 2 (guião)\n",
    "### Semana de 26 a 30 de Setembro de 2022\n",
    "### José Carlos Ramalho e Luís Cunha\n",
    "### Sinopsis:\n",
    "Algoritmos de cálculo numérico envolvendo estruturas condicionais (if-elif-else) e cíclicas (while)."
   ]
  },
  {
   "cell_type": "markdown",
   "metadata": {},
   "source": [
    "### Exercício 1: Soma de N números\n",
    "- Leia um número N;\n",
    "- Leia N números;\n",
    "- Imprima a soma dos N números."
   ]
  },
  {
   "cell_type": "code",
   "execution_count": 1,
   "metadata": {},
   "outputs": [
    {
     "name": "stdout",
     "output_type": "stream",
     "text": [
      "Diga quantos nº quer somar: 4\n",
      "Diga que número quer adicionar à soma: 1\n",
      "Diga que número quer adicionar à soma: 1\n",
      "Diga que número quer adicionar à soma: 1\n",
      "Diga que número quer adicionar à soma: 1\n",
      "4\n"
     ]
    }
   ],
   "source": [
    "N= (int( input( \"Diga quantos nº quer somar: \")))\n",
    "\n",
    "soma=0\n",
    "while N>0:\n",
    "    num= int(input(\"Diga que número quer adicionar à soma: \"))\n",
    "    soma = soma + num\n",
    "    N= N-1\n",
    "print(soma)"
   ]
  },
  {
   "cell_type": "markdown",
   "metadata": {},
   "source": [
    "### Exercício 2: O Maior de N números\n",
    "- Leia um número N;\n",
    "- Leia N números;\n",
    "- Imprima o maior dos N números."
   ]
  },
  {
   "cell_type": "code",
   "execution_count": 6,
   "metadata": {},
   "outputs": [
    {
     "name": "stdout",
     "output_type": "stream",
     "text": [
      "Diga o nº de números que deseja comparar: 4\n",
      "Diga que número quer adicionar à comparação: 9\n",
      "Diga que número quer adicionar à comparação: 6\n",
      "Diga que número quer adicionar à comparação: 0\n",
      "Diga que número quer adicionar à comparação: 1\n",
      "9\n"
     ]
    }
   ],
   "source": [
    "N=(int(input(\"Diga o nº de números que deseja comparar: \")))\n",
    "i=0\n",
    "while N>0:\n",
    "    num= int(input(\"Diga que número quer adicionar à comparação: \"))\n",
    "    if num>i:\n",
    "        i=num\n",
    "    N=N-1\n",
    "print(i)"
   ]
  },
  {
   "cell_type": "markdown",
   "metadata": {},
   "source": [
    "## Exercício 3: O Menor de N números\n",
    "- Leia um número N;\n",
    "- Leia N números;\n",
    "- Imprima o menor dos N números."
   ]
  },
  {
   "cell_type": "code",
   "execution_count": 13,
   "metadata": {},
   "outputs": [
    {
     "name": "stdout",
     "output_type": "stream",
     "text": [
      "Diga o nº de números que deseja comparar: 3\n",
      "Diga que número quer adicionar à comparação: 2\n",
      "Diga que número quer adicionar à comparação: 5\n",
      "Diga que número quer adicionar à comparação: 7\n",
      "2\n"
     ]
    }
   ],
   "source": [
    "N=(int(input(\"Diga o nº de números que deseja comparar: \")))\n",
    "menor= int(input(\"Diga que número quer adicionar à comparação: \"))\n",
    "\n",
    "while N>1:\n",
    "    num= int(input(\"Diga que número quer adicionar à comparação: \"))\n",
    "    if num<menor:\n",
    "        num=menor\n",
    "    N=N-1\n",
    "print(menor)"
   ]
  },
  {
   "cell_type": "markdown",
   "metadata": {},
   "source": [
    "##### Exercício 4: A Média de N números\n",
    "- Leia um número N;\n",
    "- Leia N números;\n",
    "- Imprima a média dos N números."
   ]
  },
  {
   "cell_type": "code",
   "execution_count": 14,
   "metadata": {},
   "outputs": [
    {
     "name": "stdout",
     "output_type": "stream",
     "text": [
      "Diga quantos números quer que entrem na média: 3\n",
      "Diga que número deseja adicionar à média: 1\n",
      "Diga que número deseja adicionar à média: 2\n",
      "Diga que número deseja adicionar à média: 3\n",
      "2.0\n"
     ]
    }
   ],
   "source": [
    "N=int(input(\"Diga quantos números quer que entrem na média: \"))\n",
    "n=N\n",
    "soma=0\n",
    "while N>0:\n",
    "    num=int(input(\"Diga que número deseja adicionar à média: \"))\n",
    "    soma=soma+num\n",
    "    N=N-1\n",
    "\n",
    "media=soma/n\n",
    "print(media)"
   ]
  },
  {
   "cell_type": "markdown",
   "metadata": {},
   "source": [
    "### Exercício 5: Potência\n",
    "- Defina uma função **pot** que recebe dois parâmetros, **a** e **b**, e retorna o resultado de **a elevado à potência de b**.\n",
    "- Use esta função para escrever no monitor as potências de 2 com expoentes de 1 a 20."
   ]
  },
  {
   "cell_type": "code",
   "execution_count": 1,
   "metadata": {},
   "outputs": [
    {
     "name": "stdout",
     "output_type": "stream",
     "text": [
      "1\n",
      "2\n",
      "4\n",
      "8\n",
      "16\n",
      "32\n",
      "64\n",
      "128\n",
      "256\n",
      "512\n",
      "1024\n",
      "2048\n",
      "4096\n",
      "8192\n",
      "16384\n",
      "32768\n",
      "65536\n",
      "131072\n",
      "262144\n",
      "524288\n",
      "1048576\n"
     ]
    }
   ],
   "source": [
    "def pot(a,b):\n",
    "    mult=1\n",
    "    while b>0:\n",
    "        mult=mult*a\n",
    "        b=b-1\n",
    "    return mult\n",
    "i=0\n",
    "while i<=20:\n",
    "    print(pot(2,i))\n",
    "    i=i+1\n"
   ]
  },
  {
   "cell_type": "markdown",
   "metadata": {},
   "source": [
    "### Exercício 6: Série numérica\n",
    "- Defina uma função **serie** que recebe três parâmetros, **base**, **salto** e **nelems**, e escreve no monitor a série;\n",
    "- Invocada com: **serie(7, 4, 5)** escreveria: 7, 11, 15, 19, 23"
   ]
  },
  {
   "cell_type": "code",
   "execution_count": 2,
   "metadata": {},
   "outputs": [
    {
     "name": "stdout",
     "output_type": "stream",
     "text": [
      "7\n",
      "10\n",
      "13\n",
      "16\n",
      "19\n"
     ]
    }
   ],
   "source": [
    "def serie(b,s,n):\n",
    "    print (b)\n",
    "    while(n>1):\n",
    "        b=b+s\n",
    "        print(b)\n",
    "        n=n-1\n",
    "serie(7,3,5)\n"
   ]
  },
  {
   "cell_type": "markdown",
   "metadata": {},
   "source": [
    "### Exercício 7: Desenhar um quadrado\n",
    "- Defina uma função **quad** que recebe um argumento, **n**, e desenha no monitor um quadrado usando o caráter '#';\n",
    "- O resultado da invocação dessa função com um argumento 3 deverá ser:\n",
    "```\n",
    "###\n",
    "###\n",
    "###\n",
    "```"
   ]
  },
  {
   "cell_type": "code",
   "execution_count": 3,
   "metadata": {},
   "outputs": [
    {
     "name": "stdout",
     "output_type": "stream",
     "text": [
      "# # #  \n",
      "# # #  \n",
      "# # #  \n"
     ]
    }
   ],
   "source": [
    "def quad(n):\n",
    "    i = n\n",
    "    z = n\n",
    "    while(n>0):\n",
    "        i = z\n",
    "        while(i > 0):\n",
    "            print(\"#\",end=\" \")\n",
    "            i = i -1\n",
    "        print(\" \")\n",
    "        n = n -1\n",
    "quad(3)"
   ]
  },
  {
   "cell_type": "markdown",
   "metadata": {},
   "source": [
    "### Exercício 8: Desenhar um quadrado\n",
    "- Defina uma função que desenhe no ecran (usando os caracteres # e _) um tabuleiro de xadrez; \n",
    "- O resultado da invocação dessa função com um argumento 5 deverá ser:\n",
    "```\n",
    "#_#_#\n",
    "_#_#_\n",
    "#_#_#\n",
    "_#_#_\n",
    "#_#_#\n",
    "```"
   ]
  },
  {
   "cell_type": "code",
   "execution_count": 4,
   "metadata": {},
   "outputs": [
    {
     "name": "stdout",
     "output_type": "stream",
     "text": [
      " \n",
      "# _ # _ #  \n",
      "_ # _ # _  \n",
      "# _ # _ #  \n",
      "_ # _ # _  \n",
      "# _ # _ # "
     ]
    }
   ],
   "source": [
    "def ecran (a):\n",
    "    c=0\n",
    "    for i in range (a):\n",
    "        print(\" \")\n",
    "        for j in range (a):\n",
    "            c=j+i\n",
    "            if c%2==0:\n",
    "                print(\"#\", end= \" \")\n",
    "            else:\n",
    "                print(\"_\", end= \" \")\n",
    "    \n",
    "ecran(5)\n",
    "        "
   ]
  },
  {
   "cell_type": "markdown",
   "metadata": {},
   "source": [
    "### Exercício 9: Índice de Massa Corporal\n",
    "- Defina uma função **imc** que recebe dois parâmetros, **peso**,**altura**, calcula o IMC corresponente e interpreta esse resultado.\n",
    "- imc(53,1.56) - Output: \"O seu índice de massa corporal é **21.78** e encontra-se na categoria **Normal**\"\n",
    "- imc(83,1.56) - Output: \"O seu índice de massa corporal é **34.11** e encontra-se na categoria **Obesidade grau I**\"\n",
    "\n",
    "Valores:\n",
    "- Menor que 18,5 - Baixo peso\n",
    "- 18,5 a 24,9 - Normal\n",
    "- 25 a 29,9\t- Excesso de peso\n",
    "- 30 a 34,9\t- Obesidade grau I\n",
    "- 35 a 39,9\t- Obesidade grau II\n",
    "- Maior que 40\t- Obesidade grau III"
   ]
  },
  {
   "cell_type": "code",
   "execution_count": 7,
   "metadata": {},
   "outputs": [
    {
     "name": "stdout",
     "output_type": "stream",
     "text": [
      "Introduza o seu peso: 53\n",
      "Introduza a sua altura: 1.56\n",
      "O seu índice de massa corporal é 21.7784352399737 e encontra-se na categoria excesso de peso\n"
     ]
    }
   ],
   "source": [
    "def imc(p,a):\n",
    "    \n",
    "    hquad=pot(h,2)\n",
    "    imc=p/hquad\n",
    "    \n",
    "    if imc<18.5:\n",
    "        print(\"O seu índice de massa corporal é\", imc, \"e encontra-se na categoria baixo peso\")\n",
    "    elif imc<=18.5 and imc<=24.9:\n",
    "        print(\"O seu índice de massa corporal é\", imc, \"e encontra-se na categoria normal\")\n",
    "    elif imc<=25 and imc<=29.9:\n",
    "        print(\"O seu índice de massa corporal é\", imc, \"e encontra-se na categoria excesso de peso\")\n",
    "    elif imc<=30 and imc<=34.9:\n",
    "        print(\"O seu índice de massa corporal é\", imc, \"e encontra-se na categoria Obesidade grau I\")\n",
    "    elif imc<=35 and imc<=39.9:\n",
    "        print(\"O seu índice de massa corporal é\", imc, \"e encontra-se na categoria Obesidade grau II\")\n",
    "    else:\n",
    "        print(\"O seu índice de massa corporal é\", imc, \"e encontra-se na categoria Obesidade grau III\")\n",
    "p=float(input(\"Introduza o seu peso: \"))\n",
    "h=float(input(\"Introduza a sua altura: \"))\n",
    "imc(p,h)"
   ]
  },
  {
   "cell_type": "markdown",
   "metadata": {},
   "source": [
    "### Exercício 10: Série de Fibonacci\n",
    "- Defina uma função **fib** que recebe um argumento, **n**, e escreve no monitor os primeiros n elementos da série de fibonacci;\n",
    "- A série de Fibonacci tem a seguinte definição matemática:\n",
    "    - Se n < 2 ==> 1\n",
    "    - Se n >= 2 ==> fib(n-1) + fib(n-2)"
   ]
  },
  {
   "cell_type": "code",
   "execution_count": 15,
   "metadata": {},
   "outputs": [
    {
     "name": "stdout",
     "output_type": "stream",
     "text": [
      "Fibonacci:\n",
      "0\n",
      "1\n",
      "1\n",
      "2\n",
      "3\n",
      "5\n",
      "8\n",
      "13\n"
     ]
    }
   ],
   "source": [
    "# Python program to display the Fibonacci sequence\n",
    "\n",
    "def recur_fibo(n):\n",
    "    if n <= 1:\n",
    "        return n\n",
    "    elif n==2:\n",
    "        return 1\n",
    "    else:\n",
    "        return(recur_fibo(n-1) + recur_fibo(n-2))\n",
    "\n",
    "def fibonacci(numero):\n",
    "    if numero <= 0:\n",
    "        print(\"Introduza um numero valido\")\n",
    "    else:\n",
    "        print(\"Fibonacci:\")\n",
    "        for i in range(numero):\n",
    "            print(recur_fibo(i))\n",
    "\n",
    "\n",
    "fibonacci(8)   "
   ]
  },
  {
   "cell_type": "markdown",
   "metadata": {},
   "source": [
    "### Exercício 11: Potência (recursiva)\n",
    "- Revisitando o problema da potência:\n",
    "    - Defina uma função **pot** que recebe dois parâmetros, **a** e **b**, e retorna o resultado de **a elevado à potência de b**;\n",
    "    - Defina esta função de forma recursiva."
   ]
  },
  {
   "cell_type": "code",
   "execution_count": 16,
   "metadata": {},
   "outputs": [
    {
     "data": {
      "text/plain": [
       "81"
      ]
     },
     "execution_count": 16,
     "metadata": {},
     "output_type": "execute_result"
    }
   ],
   "source": [
    "def potencia(x, y):\n",
    "    if y==1:\n",
    "        return (x)\n",
    "    else:\n",
    "        return (x * potencia(x, y - 1))\n",
    "potencia(3,4)"
   ]
  },
  {
   "cell_type": "markdown",
   "metadata": {},
   "source": [
    "### TPC2: Adivinha o número\n",
    "- Crie um programa em Python para jogar o jogo \"Adivinha o número\":\n",
    "    - O jogo pode ter 2 modalidades: computador pensa num número (entre 0 e 100), utilizador tenta adivinhar; ou, o utilizador pensa num número (entre 0 e 100) e o computador tenta adivinhar;\n",
    "    - Quem tenta adivinhar responde com uma das afirmações: \"Acertou\", \"O número que pensei é Maior\" ou \"O número que pensei é Menor\";\n",
    "    - Uma vez descoberto o número o programa deverá terminar imprimindo o número de tentativas que quem adivinhou usou para chegar ao resultado."
   ]
  },
  {
   "cell_type": "code",
   "execution_count": 6,
   "metadata": {},
   "outputs": [
    {
     "name": "stdout",
     "output_type": "stream",
     "text": [
      "Se quiseres jogar contra mim insere 1. Caso contrário insere 2. 1\n",
      "Tente adivinhar o número!50\n",
      "O número que pensei é maior\n",
      "Tente adivinhar o número!75\n",
      "O número que pensei é maior\n",
      "Tente adivinhar o número!80\n",
      "O número que pensei é maior\n",
      "Tente adivinhar o número!90\n",
      "O número que pensei é maior\n",
      "Tente adivinhar o número!95\n",
      "Parabéns, conseguiste adivinhar o número 95 depois  4 tentativas\n"
     ]
    }
   ],
   "source": [
    "import random\n",
    "N = int(input(\"Se quiseres jogar contra mim insere 1. Caso contrário insere 2. \"))\n",
    "tenta = 0\n",
    "a = 0\n",
    "if N == 1:\n",
    "    num = random.randrange(1, 101)\n",
    "    while a != num:\n",
    "        a = int(input(\"Tente adivinhar o número!\"))\n",
    "        if a > num:\n",
    "            print(\"O número que pensei é menor\")\n",
    "        elif a < num:\n",
    "            print(\"O número que pensei é maior\")\n",
    "        else:\n",
    "            print(\"Parabéns, conseguiste adivinhar o número\", num, \"depois \", tenta, \"tentativas\")\n",
    "        tenta = tenta + 1\n",
    "if N == 2:\n",
    "    num = int(input(\"Coloque o número que quer que o computador adivinhe. \"))\n",
    "    while a != num:\n",
    "        a = random.randrange(1, 101)\n",
    "        if a > num:\n",
    "            print(\"O número adivinhado é maior que o dado.\")\n",
    "        elif a < num:\n",
    "            print(\"O número adivinhado é menor que o dado.\")\n",
    "    print(\"Parabéns, conseguiste adivinhar o número\", num, \"depois \", tenta, \"tentativas\")\n",
    "    tenta = tenta + 1"
   ]
  },
  {
   "cell_type": "code",
   "execution_count": null,
   "metadata": {},
   "outputs": [],
   "source": []
  }
 ],
 "metadata": {
  "kernelspec": {
   "display_name": "Python 3",
   "language": "python",
   "name": "python3"
  },
  "language_info": {
   "codemirror_mode": {
    "name": "ipython",
    "version": 3
   },
   "file_extension": ".py",
   "mimetype": "text/x-python",
   "name": "python",
   "nbconvert_exporter": "python",
   "pygments_lexer": "ipython3",
   "version": "3.8.3"
  },
  "vscode": {
   "interpreter": {
    "hash": "aee8b7b246df8f9039afb4144a1f6fd8d2ca17a180786b69acc140d282b71a49"
   }
  }
 },
 "nbformat": 4,
 "nbformat_minor": 5
}
