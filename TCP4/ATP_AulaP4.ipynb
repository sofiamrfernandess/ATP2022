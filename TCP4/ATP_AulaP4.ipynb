{
 "cells": [
  {
   "cell_type": "markdown",
   "metadata": {},
   "source": [
    "# Aula Prática 4 \n",
    "### Semana de 10 a 14 de Outubro de 2022\n",
    "### José Carlos Ramalho e Luís Cunha\n",
    "### Sinopsis:\n",
    "Algoritmos e modelação de problemas com listas e tuplos."
   ]
  },
  {
   "cell_type": "markdown",
   "metadata": {},
   "source": [
    "### Exercício 1 (repescado): estaOrdenada\n",
    "- Defina uma função que recebe uma lista de números e verifica se a mesma está ordenada por ordem crescente dando como resultado um valor **True** ou **False**."
   ]
  },
  {
   "cell_type": "code",
   "execution_count": 2,
   "id": "298bceac",
   "metadata": {},
   "outputs": [],
   "source": [
    "def crescenteLista(lista):\n",
    "    valor=True\n",
    "    i=0\n",
    "    while i+1<len(lista):\n",
    "        if lista[i]>lista[i+1]:\n",
    "            valor=False\n",
    "        i=i+1\n",
    "    return valor\n",
    "crescenteLista([1,2,8,4])\n"
   ]
  },
  {
   "cell_type": "markdown",
   "id": "053608de",
   "metadata": {},
   "source": [
    "### Exercício 2: ordenaLista\n",
    "\n",
    "* Defina uma função que recebe uma lista de números e que dá como resultado uma nova lista ordenada de forma crescente."
   ]
  },
  {
   "cell_type": "code",
   "execution_count": null,
   "id": "963091ad",
   "metadata": {},
   "outputs": [
    {
     "data": {
      "text/plain": [
       "[1, 3, 4, 5]"
      ]
     },
     "execution_count": 2,
     "metadata": {},
     "output_type": "execute_result"
    }
   ],
   "source": [
    "# Solução do exercício 2\n",
    "def ordenaLista(lista):\n",
    "    lista.sort()\n",
    "    return lista\n",
    "ordenaLista([1,4,3,5])"
   ]
  },
  {
   "cell_type": "code",
   "execution_count": null,
   "id": "a932643e",
   "metadata": {},
   "outputs": [
    {
     "data": {
      "text/plain": [
       "[1, 3, 4, 5]"
      ]
     },
     "execution_count": 13,
     "metadata": {},
     "output_type": "execute_result"
    }
   ],
   "source": [
    "#Método do Bubble sort\n",
    "def ordenaLista2(lista):\n",
    "    trocas=True \n",
    "    while trocas:\n",
    "        i=1\n",
    "        trocas=False\n",
    "        while i<len(lista):\n",
    "            if lista[i]<lista[i-1]:\n",
    "                lista[i-1],lista[i] = lista[i],lista[i-1]\n",
    "                trocas = True \n",
    "            i=i+1\n",
    "             \n",
    "    return lista\n",
    "\n",
    "ordenaLista2([1,4,3,5])               \n"
   ]
  },
  {
   "cell_type": "markdown",
   "id": "ea4ffbd2",
   "metadata": {},
   "source": [
    "### Exercício 4: splitLista\n",
    "\n",
    "* Defina uma função que recebe uma lista de números e um número e que dá como resultado um tuplo em que o primeiro elemento do tuplo é uma lista com os números menores ou iguais ao número passado como argumento, e o segundo elemento do tuplo é uma lista com os maiores."
   ]
  },
  {
   "cell_type": "code",
   "execution_count": 1,
   "id": "ac4c0af7",
   "metadata": {},
   "outputs": [
    {
     "name": "stdout",
     "output_type": "stream",
     "text": [
      "([1, 2, 3, 4], [5, 6, 7])\n"
     ]
    }
   ],
   "source": [
    "# Solução do exercício 4\n",
    "def splitLista(lista,n):\n",
    "    listamenores = []\n",
    "    listamaiores = []\n",
    "    for i in lista:\n",
    "        if i <= n:\n",
    "            listamenores.append(i)\n",
    "        else: \n",
    "            listamaiores.append(i)\n",
    "    tuplo = (listamenores,listamaiores)\n",
    "    return tuplo\n",
    "\n",
    "print(splitLista([1,2,3,4,5,6,7],4))"
   ]
  },
  {
   "cell_type": "markdown",
   "id": "88624b36",
   "metadata": {},
   "source": [
    "### Exercício 5: mergeListas\n",
    "\n",
    "* Defina uma função que recebe duas listas de números ordenadas e dá como resultado uma nova lista ordenada com os elementos das duas listas."
   ]
  },
  {
   "cell_type": "code",
   "execution_count": 2,
   "id": "1ed6a1ae",
   "metadata": {},
   "outputs": [
    {
     "name": "stdout",
     "output_type": "stream",
     "text": [
      "[1, 2, 4, 5, 6, 7, 8, 9]\n"
     ]
    }
   ],
   "source": [
    "# Solução do exercício 5\n",
    "def splitLista(listaA,listaB):\n",
    "    for i in listaB:\n",
    "        listaA.append(i)\n",
    "    listaA.sort()\n",
    "    return listaA\n"
   ]
  },
  {
   "cell_type": "markdown",
   "id": "b3e603d2",
   "metadata": {},
   "source": [
    "### TPC4: Aplicação para Gerir um Cinema\n",
    "\n",
    "Suponha que está a desenvolver uma aplicacão para gestão de um conjunto de salas de cinema de um centro comercial. \n",
    "Nesse centro comercial existem algumas salas de cinema (que poderão estar a exibir filmes ou não), cada sala tem uma determinada \n",
    "lotação, uma lista com a referência dos bilhetes vendidos (lugares ocupados; cada lugar é identificado por um número inteiro), e cada sala tem um filme associado.\n",
    "\n",
    "Considera a seguinte sugestão para o modelo dos cinemas:\n",
    "```\n",
    "Cinema = [Sala]\n",
    "Sala = (nlugares, Vendidos, filme)\n",
    "nlugares = Int\n",
    "filme = String \n",
    "Vendidos = [Int]\n",
    "```\n",
    "  \n",
    "Que poderá ser usado num programa da seguinte forma:\n",
    "```\n",
    "sala1 = (150, [], \"Twilight\")\n",
    "sala2 = (200, [], \"Hannibal\")\n",
    "cinema1 = []\n",
    "...\n",
    "cinema1 = inserirSala(cinema1,sala1)\n",
    "cinema1 = inserirSala(cinema1,sala2)\n",
    "...\n",
    "listar(cinema1)\n",
    "...\n",
    "\n",
    "if(disponivel(cinema1, \"Twilight\", 17 )):\n",
    "  cinema1 = vendebilhete(cinema1, \"Twilight\", 17 )\n",
    "...\n",
    "listardisponibilidades(cinema1)\n",
    "...\n",
    "```\n",
    "\n",
    "Especifique as funções utilizadas no exemplo:\n",
    "\n",
    "1. `listar( cinema )` - que lista no monitor todos os filmes que estão em exibição nas salas do cinema passado como argumento;\n",
    "2. `disponivel( cinema, filme, lugar )` - que dá como resultado **False** se o lugar lugar já estiver ocupado na sala onde o filme está a ser exibido e dará como resultado **True** se o inverso acontecer;\n",
    "3. `vendebilhete( cinema, filme, lugar )` - que dá como resultado um novo cinema resultante de acrescentar o lugar à lista dos lugares ocupados, na sala onde está a ser exibido o filme;\n",
    "4. `listardisponibilidades( cinema )` - que, para um dado cinema, lista no monitor para cada sala, o filme que está a ser exibido e o total de lugares disponíveis nessa sala (número de lugares na sala menos o número de lugares ocupados);\n",
    "5. `inserirSala( cinema, sala )` - que acrescenta uma sala nova a um cinema (devendo verificar se a sala já existe);\n",
    "6. Acrescente todas as outras funcionalidades que achar necessárias;\n",
    "7. À semelhança do exercício 3, construa uma aplicação com um menu de interface para as operações.\n"
   ]
  },
  {
   "cell_type": "code",
   "execution_count": 7,
   "id": "a27dbb4f",
   "metadata": {},
   "outputs": [],
   "source": [
    "def inserirsala(cinema,sala):\n",
    "    if sala not in cinema:\n",
    "        cinema.append(sala)\n",
    "    else:\n",
    "        print(\"A sala já existe!\")\n",
    "    return cinema\n",
    "def listar( cinema ):\n",
    "    for sala in cinema:\n",
    "        nsala, nlugares, vendidos, filme = sala\n",
    "        print(filme)\n",
    "\n",
    "def listardisponibilidades(cinema):\n",
    "    for sala in cinema:\n",
    "        nsala, nlugares, vendidos, filme = sala\n",
    "        print(\"Sala: \", nsala, end=\"\")\n",
    "        print(\"---------\")\n",
    "        print(\"Filme: \", filme)\n",
    "        print(\"---------\")\n",
    "        print(\"Lugares disponíveis: \", (nlugares - len(vendidos)))\n",
    "\n",
    "def disponivel (cinema, filme, lugar ):\n",
    "    res = True\n",
    "    for sala in cinema:\n",
    "        if filme == sala[2]:\n",
    "            if lugar not in sala[1]:\n",
    "                res = True\n",
    "    return res\n",
    "\n",
    "def venderbilhete(cinema, filme, lugar):\n",
    "    if disponivel( cinema, filme, lugar ) == True:\n",
    "        for sala in cinema:\n",
    "            if filme == sala[2]:\n",
    "                if lugar not in sala[1]:\n",
    "                    sala[1].append(lugar)\n",
    "        return cinema\n",
    "\n"
   ]
  },
  {
   "cell_type": "code",
   "execution_count": null,
   "id": "5ea0207a",
   "metadata": {},
   "outputs": [],
   "source": [
    "def menu():\n",
    "    print(\"\"\"\n",
    "    (1) Listar os filmes que estão em exibição no Cinema.\n",
    "    (2) Lugar disponível?\n",
    "    (3) Shotgun neste lugar!\n",
    "    (4) Lugares diponíveis em cada sala.\n",
    "    (5) Nova sala.\n",
    "    (0) Sair\n",
    "    \"\"\")\n",
    "    global cinema1\n",
    "    opcao = 1\n",
    "    while opcao !=0:\n",
    "        opcao = int(input(\"O que gostaria de saber? \"))\n",
    "        if opcao == 1:\n",
    "            print(listar(cinema1))\n",
    "        elif opcao == 2:\n",
    "            print(listardisponibilidades(cinema1))\n",
    "        elif opcao == 3:\n",
    "            nlug = int(input(\"Número do lugar\"))\n",
    "            nfilme = str(input(\"Nome do filme\"))\n",
    "            if disponivel(cinema1,nfilme,nlug):\n",
    "                print(\"Está disponível\")\n",
    "            else:\n",
    "                print(\"Não está disponível\")\n",
    "        elif opcao == 4:\n",
    "            nlug = int(input(\"Número do lugar\"))\n",
    "            nfilme = str(input(\"Nome do filme\"))\n",
    "            if disponivel(cinema1,nfilme,nlug):\n",
    "                print(\"Está disponível\")\n",
    "            else:\n",
    "                print(\"Não está disponível\")\n",
    "        elif opcao == 5:\n",
    "            nlug = int(input(\"Número de lugares\"))\n",
    "            nfilme = str(input(\"Nome do filme\"))\n",
    "            sala1 = (nlug,[],nfilme)\n",
    "            cinema1 = inserirsala(cinema1,sala1)\n",
    "        else:\n",
    "            print(\"Até à próxima!\")\n",
    "        \n",
    "menu()\n",
    "\n"
   ]
  }
 ],
 "metadata": {
  "kernelspec": {
   "display_name": "Python 3",
   "language": "python",
   "name": "python3"
  },
  "language_info": {
   "codemirror_mode": {
    "name": "ipython",
    "version": 3
   },
   "file_extension": ".py",
   "mimetype": "text/x-python",
   "name": "python",
   "nbconvert_exporter": "python",
   "pygments_lexer": "ipython3",
   "version": "3.9.0"
  },
  "vscode": {
   "interpreter": {
    "hash": "aee8b7b246df8f9039afb4144a1f6fd8d2ca17a180786b69acc140d282b71a49"
   }
  }
 },
 "nbformat": 4,
 "nbformat_minor": 5
}
